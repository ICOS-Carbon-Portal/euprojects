{
 "cells": [
  {
   "cell_type": "code",
   "execution_count": null,
   "id": "muslim-physics",
   "metadata": {},
   "outputs": [],
   "source": [
    "import query_icos"
   ]
  },
  {
   "cell_type": "code",
   "execution_count": null,
   "id": "ordered-primary",
   "metadata": {},
   "outputs": [],
   "source": [
    "query_icos.get_list_platforms()"
   ]
  },
  {
   "cell_type": "code",
   "execution_count": null,
   "id": "curious-paradise",
   "metadata": {},
   "outputs": [],
   "source": [
    "query_icos.get_list_variables()"
   ]
  },
  {
   "cell_type": "code",
   "execution_count": null,
   "id": "cultural-justice",
   "metadata": {},
   "outputs": [],
   "source": [
    "ds = query_icos.query_datasets(variables=['temperature'],temporal=['2021-01-01','2021-12-31'])"
   ]
  },
  {
   "cell_type": "code",
   "execution_count": null,
   "id": "level-ottawa",
   "metadata": {},
   "outputs": [],
   "source": [
    "for d in ds:\n",
    "    print(d)"
   ]
  },
  {
   "cell_type": "code",
   "execution_count": null,
   "id": "three-overhead",
   "metadata": {},
   "outputs": [],
   "source": [
    "query_icos.query_datasets(variables=['n2o'],temporal=['2018-01-01','2018-12-31'])"
   ]
  },
  {
   "cell_type": "code",
   "execution_count": null,
   "id": "decimal-fleece",
   "metadata": {},
   "outputs": [],
   "source": [
    "data = query_icos.read_dataset('https://meta.icos-cp.eu/objects/MEQ1hOwDjVYBQky5u3-BVFxf')\n",
    "data"
   ]
  },
  {
   "cell_type": "code",
   "execution_count": null,
   "id": "silver-simple",
   "metadata": {},
   "outputs": [],
   "source": []
  }
 ],
 "metadata": {
  "kernelspec": {
   "display_name": "Python 3",
   "language": "python",
   "name": "python3"
  },
  "language_info": {
   "codemirror_mode": {
    "name": "ipython",
    "version": 3
   },
   "file_extension": ".py",
   "mimetype": "text/x-python",
   "name": "python",
   "nbconvert_exporter": "python",
   "pygments_lexer": "ipython3",
   "version": "3.8.6"
  },
  "toc": {
   "base_numbering": 1,
   "nav_menu": {},
   "number_sections": true,
   "sideBar": true,
   "skip_h1_title": false,
   "title_cell": "Table of Contents",
   "title_sidebar": "Contents",
   "toc_cell": false,
   "toc_position": {},
   "toc_section_display": true,
   "toc_window_display": false
  },
  "widgets": {
   "application/vnd.jupyter.widget-state+json": {
    "state": {},
    "version_major": 2,
    "version_minor": 0
   }
  }
 },
 "nbformat": 4,
 "nbformat_minor": 5
}
